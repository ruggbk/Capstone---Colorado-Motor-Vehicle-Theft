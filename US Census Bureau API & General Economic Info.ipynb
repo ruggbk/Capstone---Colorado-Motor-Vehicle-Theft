{
 "cells": [
  {
   "cell_type": "code",
   "execution_count": 2,
   "id": "50ce56c4",
   "metadata": {
    "ExecuteTime": {
     "end_time": "2023-06-08T16:45:37.766830Z",
     "start_time": "2023-06-08T16:45:36.987832Z"
    }
   },
   "outputs": [],
   "source": [
    "import requests\n",
    "import pandas as pd\n",
    "import dill\n",
    "import matplotlib.pyplot as plt\n",
    "\n",
    "from requests.exceptions import RequestException"
   ]
  },
  {
   "cell_type": "markdown",
   "id": "45120e74",
   "metadata": {},
   "source": [
    "## Summary / Notes"
   ]
  },
  {
   "cell_type": "markdown",
   "id": "01bca6d1",
   "metadata": {},
   "source": [
    "This notebook ingests and processes data from the Colorado Dept. of Revenue and the US Census Bureau, with the results saved in the dataframe <b>'econ_df.pkl'</b>.\n",
    "\n"
   ]
  },
  {
   "cell_type": "markdown",
   "id": "5b6c5f14",
   "metadata": {},
   "source": [
    "### Links:\n",
    "Info on dispensaries by county found here: https://cdor.colorado.gov/data-and-reports/marijuana-data/marijuana-sales-reports <br><br>\n",
    "Small Area Income and Poverty Estimates\n",
    "https://api.census.gov/data/timeseries/poverty/saipe.html\n",
    "\n",
    "US Census American Community Survey has good data, but only begins at 2005.  May revisit later.\n",
    "https://www.census.gov/data/developers/data-sets/acs-1year.html"
   ]
  },
  {
   "cell_type": "markdown",
   "id": "3c7dbf1a",
   "metadata": {},
   "source": [
    "## Marijuana Sales by County"
   ]
  },
  {
   "cell_type": "code",
   "execution_count": 86,
   "id": "5a9912f9",
   "metadata": {
    "ExecuteTime": {
     "end_time": "2023-06-08T18:13:11.921003Z",
     "start_time": "2023-06-08T18:13:11.885759Z"
    }
   },
   "outputs": [],
   "source": [
    "# Initial import\n",
    "weed_df = pd.read_csv('Marijuana_Sales_By_County_2014_To_Date_Report.xlsx - County Report - edit.csv')\n",
    "\n",
    "# Convert relevant columns to numeric values\n",
    "weed_df['Medical Marijuana Sales'] = weed_df['Medical Marijuana Sales'].str.replace(r'[^0-9.]', '', regex = True)\n",
    "weed_df['Medical Marijuana Sales'] = pd.to_numeric(weed_df['Medical Marijuana Sales'], errors='coerce')\n",
    "\n",
    "weed_df['Retail Marijuana Sales'] = weed_df['Retail Marijuana Sales'].str.replace(r'[^0-9.]', '', regex = True)\n",
    "weed_df['Retail Marijuana Sales'] = pd.to_numeric(weed_df['Retail Marijuana Sales'], errors='coerce')\n",
    "\n",
    "# Group by year and county\n",
    "weedyear_df = weed_df.groupby(['Year', 'County']).sum().reset_index().drop(columns = 'Month')\n",
    "weedyear_df = weedyear_df.rename(columns = {'Year': 'year', 'County': 'county'})\n",
    "weedyear_df['county'] = weedyear_df['county'].str.upper().str.replace('TOTAL', 'COLORADO')"
   ]
  },
  {
   "cell_type": "code",
   "execution_count": 110,
   "id": "36df98f9",
   "metadata": {
    "ExecuteTime": {
     "end_time": "2023-06-08T18:20:36.392086Z",
     "start_time": "2023-06-08T18:20:36.374986Z"
    }
   },
   "outputs": [
    {
     "data": {
      "text/html": [
       "<div>\n",
       "<style scoped>\n",
       "    .dataframe tbody tr th:only-of-type {\n",
       "        vertical-align: middle;\n",
       "    }\n",
       "\n",
       "    .dataframe tbody tr th {\n",
       "        vertical-align: top;\n",
       "    }\n",
       "\n",
       "    .dataframe thead th {\n",
       "        text-align: right;\n",
       "    }\n",
       "</style>\n",
       "<table border=\"1\" class=\"dataframe\">\n",
       "  <thead>\n",
       "    <tr style=\"text-align: right;\">\n",
       "      <th></th>\n",
       "      <th>year</th>\n",
       "      <th>county</th>\n",
       "      <th>Medical Marijuana Sales</th>\n",
       "      <th>Retail Marijuana Sales</th>\n",
       "    </tr>\n",
       "  </thead>\n",
       "  <tbody>\n",
       "    <tr>\n",
       "      <th>0</th>\n",
       "      <td>2014</td>\n",
       "      <td>COLORADO</td>\n",
       "      <td>380284040.0</td>\n",
       "      <td>303239699.0</td>\n",
       "    </tr>\n",
       "    <tr>\n",
       "      <th>1</th>\n",
       "      <td>2014</td>\n",
       "      <td>ADAMS</td>\n",
       "      <td>5781889.0</td>\n",
       "      <td>2749908.0</td>\n",
       "    </tr>\n",
       "    <tr>\n",
       "      <th>2</th>\n",
       "      <td>2014</td>\n",
       "      <td>ALAMOSA</td>\n",
       "      <td>0.0</td>\n",
       "      <td>0.0</td>\n",
       "    </tr>\n",
       "    <tr>\n",
       "      <th>3</th>\n",
       "      <td>2014</td>\n",
       "      <td>ARAPAHOE</td>\n",
       "      <td>16861284.0</td>\n",
       "      <td>2221928.0</td>\n",
       "    </tr>\n",
       "    <tr>\n",
       "      <th>4</th>\n",
       "      <td>2014</td>\n",
       "      <td>ARCHULETA</td>\n",
       "      <td>0.0</td>\n",
       "      <td>0.0</td>\n",
       "    </tr>\n",
       "    <tr>\n",
       "      <th>...</th>\n",
       "      <td>...</td>\n",
       "      <td>...</td>\n",
       "      <td>...</td>\n",
       "      <td>...</td>\n",
       "    </tr>\n",
       "    <tr>\n",
       "      <th>422</th>\n",
       "      <td>2023</td>\n",
       "      <td>SAN JUAN</td>\n",
       "      <td>0.0</td>\n",
       "      <td>24753.0</td>\n",
       "    </tr>\n",
       "    <tr>\n",
       "      <th>423</th>\n",
       "      <td>2023</td>\n",
       "      <td>SAN MIGUEL</td>\n",
       "      <td>0.0</td>\n",
       "      <td>1618613.0</td>\n",
       "    </tr>\n",
       "    <tr>\n",
       "      <th>424</th>\n",
       "      <td>2023</td>\n",
       "      <td>SEDGWICK</td>\n",
       "      <td>0.0</td>\n",
       "      <td>3567541.0</td>\n",
       "    </tr>\n",
       "    <tr>\n",
       "      <th>425</th>\n",
       "      <td>2023</td>\n",
       "      <td>SUMMIT</td>\n",
       "      <td>0.0</td>\n",
       "      <td>8169430.0</td>\n",
       "    </tr>\n",
       "    <tr>\n",
       "      <th>426</th>\n",
       "      <td>2023</td>\n",
       "      <td>WELD</td>\n",
       "      <td>547775.0</td>\n",
       "      <td>8670223.0</td>\n",
       "    </tr>\n",
       "  </tbody>\n",
       "</table>\n",
       "<p>427 rows × 4 columns</p>\n",
       "</div>"
      ],
      "text/plain": [
       "     year      county  Medical Marijuana Sales  Retail Marijuana Sales\n",
       "0    2014    COLORADO              380284040.0             303239699.0\n",
       "1    2014       ADAMS                5781889.0               2749908.0\n",
       "2    2014     ALAMOSA                      0.0                     0.0\n",
       "3    2014    ARAPAHOE               16861284.0               2221928.0\n",
       "4    2014   ARCHULETA                      0.0                     0.0\n",
       "..    ...         ...                      ...                     ...\n",
       "422  2023    SAN JUAN                      0.0                 24753.0\n",
       "423  2023  SAN MIGUEL                      0.0               1618613.0\n",
       "424  2023    SEDGWICK                      0.0               3567541.0\n",
       "425  2023      SUMMIT                      0.0               8169430.0\n",
       "426  2023        WELD                 547775.0               8670223.0\n",
       "\n",
       "[427 rows x 4 columns]"
      ]
     },
     "execution_count": 110,
     "metadata": {},
     "output_type": "execute_result"
    }
   ],
   "source": [
    "weedyear_df"
   ]
  },
  {
   "cell_type": "markdown",
   "id": "2720ff6c",
   "metadata": {},
   "source": [
    "## Small Area Income and Poverty Estimates (SAIPE)"
   ]
  },
  {
   "cell_type": "markdown",
   "id": "6cee2d1a",
   "metadata": {},
   "source": [
    "Colorado state code: 08 <br>\n",
    "County codes: ['0', '1', '3', '5', '7', '9', '11', '13', '14', '15', '17', \n",
    "                '19', '21', '23', '25', '27', '29', '31', '33', '35', '37', \n",
    "                '39', '41', '43', '45', '47', '49', '51', '53', '55', '57', \n",
    "                '59', '61', '63', '65', '67', '69', '71', '73', '75', '77', \n",
    "                '79', '81', '83', '85', '87', '89', '91', '93', '95', '97', \n",
    "                '99', '101', '103', '105', '107', '109', '111', '113', '115',\n",
    "                '117', '119', '121', '123', '125']\n",
    "                "
   ]
  },
  {
   "cell_type": "markdown",
   "id": "f0da0317",
   "metadata": {},
   "source": [
    "API documentation says Small Area Income and Poverty Estimates only goes to 2016, but requests below work until 2021"
   ]
  },
  {
   "cell_type": "markdown",
   "id": "5fb78998",
   "metadata": {},
   "source": [
    "Complete list of variables available at: https://api.census.gov/data/timeseries/poverty/saipe/variables.html\n",
    "\n",
    "Variables obtained: <br>\n",
    "Median Household Income Estimate: SAEMHI_PT <br>\n",
    "All ages in Poverty, Count Estimate: SAEPOVALL_PT <br>\n",
    "All ages in Poverty, Rate Estimate: SAEPOVRTALL_PT <br>\n",
    "Ages 5-17 in Families in Poverty, Count Estimate: SAEPOV5_17R_PT <br>\n",
    "Ages 5-17 in Families in Poverty, Rate Estimate: SAEPOVRT5_17R_PT"
   ]
  },
  {
   "cell_type": "code",
   "execution_count": 4,
   "id": "b994222a",
   "metadata": {
    "ExecuteTime": {
     "end_time": "2023-06-08T16:47:17.557872Z",
     "start_time": "2023-06-08T16:47:16.468087Z"
    }
   },
   "outputs": [],
   "source": [
    "# List of variables available at: https://api.census.gov/data/timeseries/poverty/saipe/variables.html\n",
    "\n",
    "url = 'https://api.census.gov/data/timeseries/poverty/saipe'\n",
    "params = {\n",
    "    'get': 'NAME,SAEMHI_PT,SAEPOVALL_PT,SAEPOVRTALL_PT,SAEPOV5_17R_PT,SAEPOVRT5_17R_PT',\n",
    "    'for': 'county:*',\n",
    "    'in': 'state:08',\n",
    "    'time': 'from 2000 to 2021'\n",
    "}\n",
    "\n",
    "response = requests.get(url, params=params).json()"
   ]
  },
  {
   "cell_type": "code",
   "execution_count": 64,
   "id": "4d25ef14",
   "metadata": {
    "ExecuteTime": {
     "end_time": "2023-06-08T17:53:39.014053Z",
     "start_time": "2023-06-08T17:53:39.008053Z"
    },
    "scrolled": true
   },
   "outputs": [],
   "source": [
    "# Missing one year for Broomfield County\n",
    "saipe_df = pd.DataFrame(response[1:], columns = response[0])"
   ]
  },
  {
   "cell_type": "code",
   "execution_count": 65,
   "id": "df14210a",
   "metadata": {
    "ExecuteTime": {
     "end_time": "2023-06-08T17:53:39.405936Z",
     "start_time": "2023-06-08T17:53:39.390641Z"
    },
    "scrolled": true
   },
   "outputs": [],
   "source": [
    "saipe_df = saipe_df.drop(['state', 'county'], axis = 1) \\\n",
    "                   .rename(columns = {'NAME': 'county', 'time': 'year', 'SAEMHI_PT': 'median household income',\n",
    "                                      'SAEPOVALL_PT': 'all poverty count', 'SAEPOVRTALL_PT': 'all poverty rate',\n",
    "                                      'SAEPOV5_17R_PT': 'age5-17 poverty count', 'SAEPOVRT5_17R_PT': 'age5-17 poverty rate'}) \\\n",
    "\n",
    "saipe_df['county'] = saipe_df['county'].str.replace(' County', '', regex=False).str.upper()\n",
    "\n"
   ]
  },
  {
   "cell_type": "code",
   "execution_count": 70,
   "id": "66a7f6a8",
   "metadata": {
    "ExecuteTime": {
     "end_time": "2023-06-08T17:57:39.750748Z",
     "start_time": "2023-06-08T17:57:39.726738Z"
    }
   },
   "outputs": [],
   "source": [
    "cols = ['median household income', 'all poverty count', 'all poverty rate', \n",
    "       'age5-17 poverty count', 'age5-17 poverty rate', 'year']\n",
    "\n",
    "saipe_df[cols] = saipe_df[cols].apply(pd.to_numeric, errors='coerce')"
   ]
  },
  {
   "cell_type": "code",
   "execution_count": 71,
   "id": "afc2a6cb",
   "metadata": {
    "ExecuteTime": {
     "end_time": "2023-06-08T17:57:44.045917Z",
     "start_time": "2023-06-08T17:57:44.023638Z"
    }
   },
   "outputs": [
    {
     "data": {
      "text/html": [
       "<div>\n",
       "<style scoped>\n",
       "    .dataframe tbody tr th:only-of-type {\n",
       "        vertical-align: middle;\n",
       "    }\n",
       "\n",
       "    .dataframe tbody tr th {\n",
       "        vertical-align: top;\n",
       "    }\n",
       "\n",
       "    .dataframe thead th {\n",
       "        text-align: right;\n",
       "    }\n",
       "</style>\n",
       "<table border=\"1\" class=\"dataframe\">\n",
       "  <thead>\n",
       "    <tr style=\"text-align: right;\">\n",
       "      <th></th>\n",
       "      <th>county</th>\n",
       "      <th>median household income</th>\n",
       "      <th>all poverty count</th>\n",
       "      <th>all poverty rate</th>\n",
       "      <th>age5-17 poverty count</th>\n",
       "      <th>age5-17 poverty rate</th>\n",
       "      <th>year</th>\n",
       "    </tr>\n",
       "  </thead>\n",
       "  <tbody>\n",
       "    <tr>\n",
       "      <th>0</th>\n",
       "      <td>ADAMS</td>\n",
       "      <td>48307</td>\n",
       "      <td>33377</td>\n",
       "      <td>8.9</td>\n",
       "      <td>8806</td>\n",
       "      <td>12.0</td>\n",
       "      <td>2000</td>\n",
       "    </tr>\n",
       "    <tr>\n",
       "      <th>1</th>\n",
       "      <td>ALAMOSA</td>\n",
       "      <td>30538</td>\n",
       "      <td>2851</td>\n",
       "      <td>20.3</td>\n",
       "      <td>706</td>\n",
       "      <td>24.1</td>\n",
       "      <td>2000</td>\n",
       "    </tr>\n",
       "    <tr>\n",
       "      <th>2</th>\n",
       "      <td>ARAPAHOE</td>\n",
       "      <td>55359</td>\n",
       "      <td>29023</td>\n",
       "      <td>5.8</td>\n",
       "      <td>6514</td>\n",
       "      <td>6.8</td>\n",
       "      <td>2000</td>\n",
       "    </tr>\n",
       "    <tr>\n",
       "      <th>3</th>\n",
       "      <td>ARCHULETA</td>\n",
       "      <td>38241</td>\n",
       "      <td>1379</td>\n",
       "      <td>13.2</td>\n",
       "      <td>377</td>\n",
       "      <td>18.9</td>\n",
       "      <td>2000</td>\n",
       "    </tr>\n",
       "    <tr>\n",
       "      <th>4</th>\n",
       "      <td>BACA</td>\n",
       "      <td>29274</td>\n",
       "      <td>773</td>\n",
       "      <td>17.5</td>\n",
       "      <td>188</td>\n",
       "      <td>23.5</td>\n",
       "      <td>2000</td>\n",
       "    </tr>\n",
       "    <tr>\n",
       "      <th>...</th>\n",
       "      <td>...</td>\n",
       "      <td>...</td>\n",
       "      <td>...</td>\n",
       "      <td>...</td>\n",
       "      <td>...</td>\n",
       "      <td>...</td>\n",
       "      <td>...</td>\n",
       "    </tr>\n",
       "    <tr>\n",
       "      <th>1402</th>\n",
       "      <td>SUMMIT</td>\n",
       "      <td>90297</td>\n",
       "      <td>2053</td>\n",
       "      <td>6.7</td>\n",
       "      <td>225</td>\n",
       "      <td>6.4</td>\n",
       "      <td>2021</td>\n",
       "    </tr>\n",
       "    <tr>\n",
       "      <th>1403</th>\n",
       "      <td>TELLER</td>\n",
       "      <td>76715</td>\n",
       "      <td>1968</td>\n",
       "      <td>7.9</td>\n",
       "      <td>388</td>\n",
       "      <td>12.2</td>\n",
       "      <td>2021</td>\n",
       "    </tr>\n",
       "    <tr>\n",
       "      <th>1404</th>\n",
       "      <td>WASHINGTON</td>\n",
       "      <td>57522</td>\n",
       "      <td>544</td>\n",
       "      <td>11.6</td>\n",
       "      <td>128</td>\n",
       "      <td>15.2</td>\n",
       "      <td>2021</td>\n",
       "    </tr>\n",
       "    <tr>\n",
       "      <th>1405</th>\n",
       "      <td>WELD</td>\n",
       "      <td>84826</td>\n",
       "      <td>32543</td>\n",
       "      <td>9.8</td>\n",
       "      <td>6942</td>\n",
       "      <td>11.0</td>\n",
       "      <td>2021</td>\n",
       "    </tr>\n",
       "    <tr>\n",
       "      <th>1406</th>\n",
       "      <td>YUMA</td>\n",
       "      <td>56161</td>\n",
       "      <td>1315</td>\n",
       "      <td>13.5</td>\n",
       "      <td>340</td>\n",
       "      <td>16.7</td>\n",
       "      <td>2021</td>\n",
       "    </tr>\n",
       "  </tbody>\n",
       "</table>\n",
       "<p>1407 rows × 7 columns</p>\n",
       "</div>"
      ],
      "text/plain": [
       "          county  median household income  all poverty count  \\\n",
       "0          ADAMS                    48307              33377   \n",
       "1        ALAMOSA                    30538               2851   \n",
       "2       ARAPAHOE                    55359              29023   \n",
       "3      ARCHULETA                    38241               1379   \n",
       "4           BACA                    29274                773   \n",
       "...          ...                      ...                ...   \n",
       "1402      SUMMIT                    90297               2053   \n",
       "1403      TELLER                    76715               1968   \n",
       "1404  WASHINGTON                    57522                544   \n",
       "1405        WELD                    84826              32543   \n",
       "1406        YUMA                    56161               1315   \n",
       "\n",
       "      all poverty rate  age5-17 poverty count  age5-17 poverty rate  year  \n",
       "0                  8.9                   8806                  12.0  2000  \n",
       "1                 20.3                    706                  24.1  2000  \n",
       "2                  5.8                   6514                   6.8  2000  \n",
       "3                 13.2                    377                  18.9  2000  \n",
       "4                 17.5                    188                  23.5  2000  \n",
       "...                ...                    ...                   ...   ...  \n",
       "1402               6.7                    225                   6.4  2021  \n",
       "1403               7.9                    388                  12.2  2021  \n",
       "1404              11.6                    128                  15.2  2021  \n",
       "1405               9.8                   6942                  11.0  2021  \n",
       "1406              13.5                    340                  16.7  2021  \n",
       "\n",
       "[1407 rows x 7 columns]"
      ]
     },
     "execution_count": 71,
     "metadata": {},
     "output_type": "execute_result"
    }
   ],
   "source": [
    "saipe_df"
   ]
  },
  {
   "cell_type": "markdown",
   "id": "f75b13e9",
   "metadata": {},
   "source": [
    "## Population Estimates"
   ]
  },
  {
   "cell_type": "code",
   "execution_count": null,
   "id": "7556f28d",
   "metadata": {},
   "outputs": [],
   "source": [
    "# US Census API for population estimates changed year to year and was hard to \n",
    "# navigate.  Found Excel spreadsheets at these links:\n",
    "# https://www.census.gov/data/tables/time-series/demo/popest/intercensal-2000-2010-counties.html\n",
    "# https://www.census.gov/data/datasets/time-series/demo/popest/2010s-counties-total.html\n",
    "# https://www.census.gov/data/datasets/time-series/demo/popest/2020s-counties-total.html"
   ]
  },
  {
   "cell_type": "code",
   "execution_count": 58,
   "id": "d15eab12",
   "metadata": {
    "ExecuteTime": {
     "end_time": "2023-06-08T17:52:46.977243Z",
     "start_time": "2023-06-08T17:52:46.963244Z"
    }
   },
   "outputs": [],
   "source": [
    "pop2000s = pd.read_csv('population data/co-est00int-01-08-edit.csv', header=1)\n",
    "pop2000s = pop2000s.rename(columns = {'Unnamed: 0': 'region'})\n",
    "pop2000s['region'] = pop2000s['region'].str.replace('.', '', regex=False).str.replace(' County', '').str.upper()\n",
    "\n",
    "pop2010s = pd.read_csv('population data/co-est2019-annres-08-edit.csv', header=1)\n",
    "pop2010s = pop2010s.rename(columns = {'Unnamed: 0': 'region'})\n",
    "pop2010s['region'] = pop2010s['region'].str.replace('.', '', regex=False).str.replace(' County, Colorado', '').str.upper()\n",
    "\n",
    "pop2020s = pd.read_csv('population data/co-est2022-pop-08-edit.csv', header=1)\n",
    "pop2020s = pop2020s.rename(columns = {'Unnamed: 0': 'region'})\n",
    "pop2020s['region'] = pop2020s['region'].str.replace('.', '', regex=False).str.replace(' County, Colorado', '').str.upper()\n",
    "\n",
    "countypop_df = pop2000s.merge(pop2010s, on = 'region')\n",
    "countypop_df = countypop_df.merge(pop2020s, on = 'region')"
   ]
  },
  {
   "cell_type": "code",
   "execution_count": 59,
   "id": "9f8dc369",
   "metadata": {
    "ExecuteTime": {
     "end_time": "2023-06-08T17:52:47.228059Z",
     "start_time": "2023-06-08T17:52:47.209038Z"
    }
   },
   "outputs": [],
   "source": [
    "# Create an empty list to store the reformatted rows\n",
    "new_rows = []\n",
    "\n",
    "# Iterate over each row in the original dataframe\n",
    "for index, row in countypop_df.iterrows():\n",
    "    region = row['region']\n",
    "    # Iterate over each column except the 'region' column\n",
    "    for year, population in list(row.items())[1:]:\n",
    "        new_rows.append([region, year, population])\n",
    "\n",
    "# Create a new dataframe using the reformatted rows\n",
    "countypop_df = pd.DataFrame(new_rows, columns=['county', 'year', 'population'])"
   ]
  },
  {
   "cell_type": "code",
   "execution_count": 60,
   "id": "b5c774df",
   "metadata": {
    "ExecuteTime": {
     "end_time": "2023-06-08T17:52:47.605522Z",
     "start_time": "2023-06-08T17:52:47.592510Z"
    }
   },
   "outputs": [],
   "source": [
    "countypop_df['population'] = countypop_df['population'].str.replace(',', '')\n",
    "countypop_df['population'] = pd.to_numeric(countypop_df['population'], errors = 'coerce')\n",
    "\n",
    "countypop_df['year'] = pd.to_numeric(countypop_df['year'], errors = 'coerce')"
   ]
  },
  {
   "cell_type": "markdown",
   "id": "bcd49182",
   "metadata": {},
   "source": [
    "## Merge Dataframes"
   ]
  },
  {
   "cell_type": "code",
   "execution_count": 125,
   "id": "a43eaa3d",
   "metadata": {
    "ExecuteTime": {
     "end_time": "2023-06-08T18:24:38.353017Z",
     "start_time": "2023-06-08T18:24:38.331692Z"
    }
   },
   "outputs": [],
   "source": [
    "econ_df = countypop_df.merge(saipe_df, on = ['year', 'county'], how = 'left')\n",
    "econ_df = econ_df.merge(weedyear_df, on = ['year', 'county'], how = 'left')\n",
    "econ_df['Medical Marijuana Sales'].fillna(0, inplace=True)\n",
    "econ_df['Retail Marijuana Sales'].fillna(0, inplace=True)"
   ]
  },
  {
   "cell_type": "code",
   "execution_count": 126,
   "id": "ff5e75c6",
   "metadata": {
    "ExecuteTime": {
     "end_time": "2023-06-08T18:24:43.007733Z",
     "start_time": "2023-06-08T18:24:42.988744Z"
    },
    "scrolled": true
   },
   "outputs": [
    {
     "data": {
      "text/html": [
       "<div>\n",
       "<style scoped>\n",
       "    .dataframe tbody tr th:only-of-type {\n",
       "        vertical-align: middle;\n",
       "    }\n",
       "\n",
       "    .dataframe tbody tr th {\n",
       "        vertical-align: top;\n",
       "    }\n",
       "\n",
       "    .dataframe thead th {\n",
       "        text-align: right;\n",
       "    }\n",
       "</style>\n",
       "<table border=\"1\" class=\"dataframe\">\n",
       "  <thead>\n",
       "    <tr style=\"text-align: right;\">\n",
       "      <th></th>\n",
       "      <th>county</th>\n",
       "      <th>year</th>\n",
       "      <th>population</th>\n",
       "      <th>median household income</th>\n",
       "      <th>all poverty count</th>\n",
       "      <th>all poverty rate</th>\n",
       "      <th>age5-17 poverty count</th>\n",
       "      <th>age5-17 poverty rate</th>\n",
       "      <th>Medical Marijuana Sales</th>\n",
       "      <th>Retail Marijuana Sales</th>\n",
       "    </tr>\n",
       "  </thead>\n",
       "  <tbody>\n",
       "    <tr>\n",
       "      <th>0</th>\n",
       "      <td>COLORADO</td>\n",
       "      <td>2000</td>\n",
       "      <td>4326921</td>\n",
       "      <td>NaN</td>\n",
       "      <td>NaN</td>\n",
       "      <td>NaN</td>\n",
       "      <td>NaN</td>\n",
       "      <td>NaN</td>\n",
       "      <td>0.0</td>\n",
       "      <td>0.0</td>\n",
       "    </tr>\n",
       "    <tr>\n",
       "      <th>1</th>\n",
       "      <td>COLORADO</td>\n",
       "      <td>2001</td>\n",
       "      <td>4425687</td>\n",
       "      <td>NaN</td>\n",
       "      <td>NaN</td>\n",
       "      <td>NaN</td>\n",
       "      <td>NaN</td>\n",
       "      <td>NaN</td>\n",
       "      <td>0.0</td>\n",
       "      <td>0.0</td>\n",
       "    </tr>\n",
       "    <tr>\n",
       "      <th>2</th>\n",
       "      <td>COLORADO</td>\n",
       "      <td>2002</td>\n",
       "      <td>4490406</td>\n",
       "      <td>NaN</td>\n",
       "      <td>NaN</td>\n",
       "      <td>NaN</td>\n",
       "      <td>NaN</td>\n",
       "      <td>NaN</td>\n",
       "      <td>0.0</td>\n",
       "      <td>0.0</td>\n",
       "    </tr>\n",
       "    <tr>\n",
       "      <th>3</th>\n",
       "      <td>COLORADO</td>\n",
       "      <td>2003</td>\n",
       "      <td>4528732</td>\n",
       "      <td>NaN</td>\n",
       "      <td>NaN</td>\n",
       "      <td>NaN</td>\n",
       "      <td>NaN</td>\n",
       "      <td>NaN</td>\n",
       "      <td>0.0</td>\n",
       "      <td>0.0</td>\n",
       "    </tr>\n",
       "    <tr>\n",
       "      <th>4</th>\n",
       "      <td>COLORADO</td>\n",
       "      <td>2004</td>\n",
       "      <td>4575013</td>\n",
       "      <td>NaN</td>\n",
       "      <td>NaN</td>\n",
       "      <td>NaN</td>\n",
       "      <td>NaN</td>\n",
       "      <td>NaN</td>\n",
       "      <td>0.0</td>\n",
       "      <td>0.0</td>\n",
       "    </tr>\n",
       "    <tr>\n",
       "      <th>...</th>\n",
       "      <td>...</td>\n",
       "      <td>...</td>\n",
       "      <td>...</td>\n",
       "      <td>...</td>\n",
       "      <td>...</td>\n",
       "      <td>...</td>\n",
       "      <td>...</td>\n",
       "      <td>...</td>\n",
       "      <td>...</td>\n",
       "      <td>...</td>\n",
       "    </tr>\n",
       "    <tr>\n",
       "      <th>1490</th>\n",
       "      <td>YUMA</td>\n",
       "      <td>2018</td>\n",
       "      <td>9947</td>\n",
       "      <td>53253.0</td>\n",
       "      <td>1191.0</td>\n",
       "      <td>12.1</td>\n",
       "      <td>303.0</td>\n",
       "      <td>15.6</td>\n",
       "      <td>0.0</td>\n",
       "      <td>0.0</td>\n",
       "    </tr>\n",
       "    <tr>\n",
       "      <th>1491</th>\n",
       "      <td>YUMA</td>\n",
       "      <td>2019</td>\n",
       "      <td>10019</td>\n",
       "      <td>52841.0</td>\n",
       "      <td>1255.0</td>\n",
       "      <td>12.8</td>\n",
       "      <td>291.0</td>\n",
       "      <td>14.7</td>\n",
       "      <td>0.0</td>\n",
       "      <td>0.0</td>\n",
       "    </tr>\n",
       "    <tr>\n",
       "      <th>1492</th>\n",
       "      <td>YUMA</td>\n",
       "      <td>2020</td>\n",
       "      <td>9979</td>\n",
       "      <td>82124.0</td>\n",
       "      <td>1124.0</td>\n",
       "      <td>11.5</td>\n",
       "      <td>300.0</td>\n",
       "      <td>15.0</td>\n",
       "      <td>0.0</td>\n",
       "      <td>0.0</td>\n",
       "    </tr>\n",
       "    <tr>\n",
       "      <th>1493</th>\n",
       "      <td>YUMA</td>\n",
       "      <td>2021</td>\n",
       "      <td>9943</td>\n",
       "      <td>56161.0</td>\n",
       "      <td>1315.0</td>\n",
       "      <td>13.5</td>\n",
       "      <td>340.0</td>\n",
       "      <td>16.7</td>\n",
       "      <td>0.0</td>\n",
       "      <td>0.0</td>\n",
       "    </tr>\n",
       "    <tr>\n",
       "      <th>1494</th>\n",
       "      <td>YUMA</td>\n",
       "      <td>2022</td>\n",
       "      <td>9899</td>\n",
       "      <td>NaN</td>\n",
       "      <td>NaN</td>\n",
       "      <td>NaN</td>\n",
       "      <td>NaN</td>\n",
       "      <td>NaN</td>\n",
       "      <td>0.0</td>\n",
       "      <td>0.0</td>\n",
       "    </tr>\n",
       "  </tbody>\n",
       "</table>\n",
       "<p>1495 rows × 10 columns</p>\n",
       "</div>"
      ],
      "text/plain": [
       "        county  year  population  median household income  all poverty count  \\\n",
       "0     COLORADO  2000     4326921                      NaN                NaN   \n",
       "1     COLORADO  2001     4425687                      NaN                NaN   \n",
       "2     COLORADO  2002     4490406                      NaN                NaN   \n",
       "3     COLORADO  2003     4528732                      NaN                NaN   \n",
       "4     COLORADO  2004     4575013                      NaN                NaN   \n",
       "...        ...   ...         ...                      ...                ...   \n",
       "1490      YUMA  2018        9947                  53253.0             1191.0   \n",
       "1491      YUMA  2019       10019                  52841.0             1255.0   \n",
       "1492      YUMA  2020        9979                  82124.0             1124.0   \n",
       "1493      YUMA  2021        9943                  56161.0             1315.0   \n",
       "1494      YUMA  2022        9899                      NaN                NaN   \n",
       "\n",
       "      all poverty rate  age5-17 poverty count  age5-17 poverty rate  \\\n",
       "0                  NaN                    NaN                   NaN   \n",
       "1                  NaN                    NaN                   NaN   \n",
       "2                  NaN                    NaN                   NaN   \n",
       "3                  NaN                    NaN                   NaN   \n",
       "4                  NaN                    NaN                   NaN   \n",
       "...                ...                    ...                   ...   \n",
       "1490              12.1                  303.0                  15.6   \n",
       "1491              12.8                  291.0                  14.7   \n",
       "1492              11.5                  300.0                  15.0   \n",
       "1493              13.5                  340.0                  16.7   \n",
       "1494               NaN                    NaN                   NaN   \n",
       "\n",
       "      Medical Marijuana Sales  Retail Marijuana Sales  \n",
       "0                         0.0                     0.0  \n",
       "1                         0.0                     0.0  \n",
       "2                         0.0                     0.0  \n",
       "3                         0.0                     0.0  \n",
       "4                         0.0                     0.0  \n",
       "...                       ...                     ...  \n",
       "1490                      0.0                     0.0  \n",
       "1491                      0.0                     0.0  \n",
       "1492                      0.0                     0.0  \n",
       "1493                      0.0                     0.0  \n",
       "1494                      0.0                     0.0  \n",
       "\n",
       "[1495 rows x 10 columns]"
      ]
     },
     "execution_count": 126,
     "metadata": {},
     "output_type": "execute_result"
    }
   ],
   "source": [
    "econ_df"
   ]
  },
  {
   "cell_type": "code",
   "execution_count": 127,
   "id": "e60116ac",
   "metadata": {
    "ExecuteTime": {
     "end_time": "2023-06-08T18:35:20.236696Z",
     "start_time": "2023-06-08T18:35:20.224708Z"
    }
   },
   "outputs": [],
   "source": [
    "econ_df.to_pickle('econ_df.pkl')"
   ]
  }
 ],
 "metadata": {
  "hide_input": false,
  "kernelspec": {
   "display_name": "Python 3 (ipykernel)",
   "language": "python",
   "name": "python3"
  },
  "language_info": {
   "codemirror_mode": {
    "name": "ipython",
    "version": 3
   },
   "file_extension": ".py",
   "mimetype": "text/x-python",
   "name": "python",
   "nbconvert_exporter": "python",
   "pygments_lexer": "ipython3",
   "version": "3.9.16"
  },
  "nbTranslate": {
   "displayLangs": [
    "*"
   ],
   "hotkey": "alt-t",
   "langInMainMenu": true,
   "sourceLang": "en",
   "targetLang": "fr",
   "useGoogleTranslate": true
  },
  "toc": {
   "base_numbering": 1,
   "nav_menu": {
    "height": "217px",
    "width": "162px"
   },
   "number_sections": true,
   "sideBar": true,
   "skip_h1_title": false,
   "title_cell": "Table of Contents",
   "title_sidebar": "Contents",
   "toc_cell": false,
   "toc_position": {},
   "toc_section_display": true,
   "toc_window_display": false
  },
  "varInspector": {
   "cols": {
    "lenName": 16,
    "lenType": 16,
    "lenVar": 40
   },
   "kernels_config": {
    "python": {
     "delete_cmd_postfix": "",
     "delete_cmd_prefix": "del ",
     "library": "var_list.py",
     "varRefreshCmd": "print(var_dic_list())"
    },
    "r": {
     "delete_cmd_postfix": ") ",
     "delete_cmd_prefix": "rm(",
     "library": "var_list.r",
     "varRefreshCmd": "cat(var_dic_list()) "
    }
   },
   "types_to_exclude": [
    "module",
    "function",
    "builtin_function_or_method",
    "instance",
    "_Feature"
   ],
   "window_display": false
  }
 },
 "nbformat": 4,
 "nbformat_minor": 5
}
